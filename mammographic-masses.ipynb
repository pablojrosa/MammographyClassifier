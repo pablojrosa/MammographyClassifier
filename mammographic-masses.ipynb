{
 "cells": [
  {
   "cell_type": "markdown",
   "metadata": {},
   "source": [
    "## Mammographic-masses \n",
    "\n",
    "\"Mammography is the most effective method for breast cancer screening available today. However, the low positive predictive value of breast biopsy resulting from mammogram interpretation leads to approximately 70% unnecessary biopsies with benign outcomes.\" [1](http://archive.ics.uci.edu/ml/datasets/mammographic+mass)\n",
    "\n",
    "\n",
    "The objective of this notebook is to create an complete analysis about the dataset porpused by  by the [Frank Kane](https://www.linkedin.com/in/fkane/) as a final project of the course provided at udemy called [Machine Learning, Data Science and Deep Learning with Python](https://www.udemy.com/course/data-science-and-machine-learning-with-python-hands-on/) that i highly recomend you if believes that you belongs the field of data.\n",
    "\n",
    "After that the best model is going to be on production in a website i will develop.\n",
    "\n",
    "\n",
    "### What you're going to find here?\n",
    "\n",
    "#### ✅ Data QA\n",
    "* Dimensions of dataset.\n",
    "* Data type.\n",
    "* Detect nulls, na and duplicates.\n",
    "* Develop an estrategy about the results mentiones above.\n",
    "* Detect inconsistences and develop a strategy about ones found.\n",
    "* Conclusions about Data QA\n",
    "\n",
    "#### 📊 Reporting\n",
    "* Univariate analysis.\n",
    "* Detect outliers and develop and strategy to treat them.\n",
    "* Bivariate analysis.\n",
    "* Distribution of features respect to the target\n",
    "* Conclusions about Reporting\n",
    "\n",
    "#### 🤖 Machine Learning\n",
    "* Prepocess data (dummies, encoders, normalize, etc)\n",
    "* Develop Machine learning models (Desition Trees, Random forest, KNN, Naive Bayes, SVM, NN provided by Keras)\n",
    "* Tune hyperparams.\n",
    "* Mesure all models.\n",
    "* Feature importance for the model selected.\n",
    "* Conclusions about Machine Learning.\n",
    "\n",
    "Hope you enjoy that! Let's move on!\n",
    "\n",
    "\n",
    "### Columns \n",
    "1. BI-RADS assessment: 1 to 5 (ordinal, non-predictive!)\n",
    "2. Age: patient's age in years (integer)\n",
    "3. Shape: mass shape: round=1 oval=2 lobular=3 irregular=4 (nominal)\n",
    "4. Margin: mass margin: circumscribed=1 microlobulated=2 obscured=3 ill-defined=4 spiculated=5 (nominal)\n",
    "5. Density: mass density high=1 iso=2 low=3 fat-containing=4 (ordinal)\n",
    "6. Severity: benign=0 or malignant=1 (binominal, goal field!)\n"
   ]
  },
  {
   "cell_type": "markdown",
   "metadata": {},
   "source": [
    "### Import libraries"
   ]
  },
  {
   "cell_type": "code",
   "execution_count": 1,
   "metadata": {},
   "outputs": [],
   "source": [
    "import math\n",
    "\n",
    "#Oculto los warnings \n",
    "import warnings\n",
    "\n",
    "import joblib\n",
    "import matplotlib.pyplot as plt\n",
    "import numpy as np\n",
    "import pandas as pd\n",
    "import seaborn as sns\n",
    "from sklearn import preprocessing\n",
    "from sklearn.ensemble import RandomForestClassifier\n",
    "from sklearn.linear_model import LogisticRegression\n",
    "from sklearn.naive_bayes import CategoricalNB\n",
    "\n",
    "# CategoricalNB is used because the fits better with the definition: \"is suitable for classification \n",
    "# with discrete features that are categorically distributed\".\n",
    "from sklearn.neighbors import KNeighborsClassifier\n",
    "from sklearn.svm import SVC\n",
    "from sklearn.tree import DecisionTreeClassifier\n",
    "from tensorflow import keras\n",
    "from tensorflow.keras.layers import Dense\n",
    "from tensorflow.keras.models import Sequential"
   ]
  },
  {
   "cell_type": "code",
   "execution_count": 2,
   "metadata": {
    "scrolled": false
   },
   "outputs": [
    {
     "data": {
      "text/html": [
       "<div>\n",
       "<style scoped>\n",
       "    .dataframe tbody tr th:only-of-type {\n",
       "        vertical-align: middle;\n",
       "    }\n",
       "\n",
       "    .dataframe tbody tr th {\n",
       "        vertical-align: top;\n",
       "    }\n",
       "\n",
       "    .dataframe thead th {\n",
       "        text-align: right;\n",
       "    }\n",
       "</style>\n",
       "<table border=\"1\" class=\"dataframe\">\n",
       "  <thead>\n",
       "    <tr style=\"text-align: right;\">\n",
       "      <th></th>\n",
       "      <th>BI-RADS assessment</th>\n",
       "      <th>Age</th>\n",
       "      <th>Shape</th>\n",
       "      <th>Margin</th>\n",
       "      <th>Density</th>\n",
       "      <th>Severity</th>\n",
       "    </tr>\n",
       "  </thead>\n",
       "  <tbody>\n",
       "    <tr>\n",
       "      <th>0</th>\n",
       "      <td>5.0</td>\n",
       "      <td>67.0</td>\n",
       "      <td>3.0</td>\n",
       "      <td>5.0</td>\n",
       "      <td>3.0</td>\n",
       "      <td>1</td>\n",
       "    </tr>\n",
       "    <tr>\n",
       "      <th>1</th>\n",
       "      <td>4.0</td>\n",
       "      <td>43.0</td>\n",
       "      <td>1.0</td>\n",
       "      <td>1.0</td>\n",
       "      <td>NaN</td>\n",
       "      <td>1</td>\n",
       "    </tr>\n",
       "    <tr>\n",
       "      <th>2</th>\n",
       "      <td>5.0</td>\n",
       "      <td>58.0</td>\n",
       "      <td>4.0</td>\n",
       "      <td>5.0</td>\n",
       "      <td>3.0</td>\n",
       "      <td>1</td>\n",
       "    </tr>\n",
       "    <tr>\n",
       "      <th>3</th>\n",
       "      <td>4.0</td>\n",
       "      <td>28.0</td>\n",
       "      <td>1.0</td>\n",
       "      <td>1.0</td>\n",
       "      <td>3.0</td>\n",
       "      <td>0</td>\n",
       "    </tr>\n",
       "    <tr>\n",
       "      <th>4</th>\n",
       "      <td>5.0</td>\n",
       "      <td>74.0</td>\n",
       "      <td>1.0</td>\n",
       "      <td>5.0</td>\n",
       "      <td>NaN</td>\n",
       "      <td>1</td>\n",
       "    </tr>\n",
       "  </tbody>\n",
       "</table>\n",
       "</div>"
      ],
      "text/plain": [
       "   BI-RADS assessment   Age  Shape  Margin  Density  Severity\n",
       "0                 5.0  67.0    3.0     5.0      3.0         1\n",
       "1                 4.0  43.0    1.0     1.0      NaN         1\n",
       "2                 5.0  58.0    4.0     5.0      3.0         1\n",
       "3                 4.0  28.0    1.0     1.0      3.0         0\n",
       "4                 5.0  74.0    1.0     5.0      NaN         1"
      ]
     },
     "execution_count": 2,
     "metadata": {},
     "output_type": "execute_result"
    }
   ],
   "source": [
    "cols = ['BI-RADS assessment', 'Age', 'Shape','Margin','Density','Severity']\n",
    "predictive_attributes = ['Age', 'Shape','Margin','Density']\n",
    "non_predictive_attribute = 'BI-RADS assessment'\n",
    "taget = 'Severity'\n",
    "\n",
    "df = pd.read_csv('training_data/mammographic_masses.data.txt',na_values=['?'],names = cols).reset_index(drop=True)\n",
    "df.head()"
   ]
  },
  {
   "cell_type": "markdown",
   "metadata": {},
   "source": [
    "### Data QA"
   ]
  },
  {
   "cell_type": "markdown",
   "metadata": {},
   "source": [
    "**Shape**"
   ]
  },
  {
   "cell_type": "code",
   "execution_count": 3,
   "metadata": {},
   "outputs": [
    {
     "data": {
      "text/plain": [
       "(961, 6)"
      ]
     },
     "execution_count": 3,
     "metadata": {},
     "output_type": "execute_result"
    }
   ],
   "source": [
    "df.shape"
   ]
  },
  {
   "cell_type": "markdown",
   "metadata": {},
   "source": [
    "**Info about data**"
   ]
  },
  {
   "cell_type": "code",
   "execution_count": 4,
   "metadata": {},
   "outputs": [
    {
     "name": "stdout",
     "output_type": "stream",
     "text": [
      "<class 'pandas.core.frame.DataFrame'>\n",
      "RangeIndex: 961 entries, 0 to 960\n",
      "Data columns (total 6 columns):\n",
      " #   Column              Non-Null Count  Dtype  \n",
      "---  ------              --------------  -----  \n",
      " 0   BI-RADS assessment  959 non-null    float64\n",
      " 1   Age                 956 non-null    float64\n",
      " 2   Shape               930 non-null    float64\n",
      " 3   Margin              913 non-null    float64\n",
      " 4   Density             885 non-null    float64\n",
      " 5   Severity            961 non-null    int64  \n",
      "dtypes: float64(5), int64(1)\n",
      "memory usage: 45.2 KB\n"
     ]
    }
   ],
   "source": [
    "df.info()"
   ]
  },
  {
   "cell_type": "markdown",
   "metadata": {},
   "source": [
    "**Main stadistics about features**"
   ]
  },
  {
   "cell_type": "code",
   "execution_count": 5,
   "metadata": {},
   "outputs": [
    {
     "data": {
      "text/html": [
       "<div>\n",
       "<style scoped>\n",
       "    .dataframe tbody tr th:only-of-type {\n",
       "        vertical-align: middle;\n",
       "    }\n",
       "\n",
       "    .dataframe tbody tr th {\n",
       "        vertical-align: top;\n",
       "    }\n",
       "\n",
       "    .dataframe thead th {\n",
       "        text-align: right;\n",
       "    }\n",
       "</style>\n",
       "<table border=\"1\" class=\"dataframe\">\n",
       "  <thead>\n",
       "    <tr style=\"text-align: right;\">\n",
       "      <th></th>\n",
       "      <th>BI-RADS assessment</th>\n",
       "      <th>Age</th>\n",
       "      <th>Shape</th>\n",
       "      <th>Margin</th>\n",
       "      <th>Density</th>\n",
       "      <th>Severity</th>\n",
       "    </tr>\n",
       "  </thead>\n",
       "  <tbody>\n",
       "    <tr>\n",
       "      <th>count</th>\n",
       "      <td>959.000000</td>\n",
       "      <td>956.000000</td>\n",
       "      <td>930.000000</td>\n",
       "      <td>913.000000</td>\n",
       "      <td>885.000000</td>\n",
       "      <td>961.000000</td>\n",
       "    </tr>\n",
       "    <tr>\n",
       "      <th>mean</th>\n",
       "      <td>4.348279</td>\n",
       "      <td>55.487448</td>\n",
       "      <td>2.721505</td>\n",
       "      <td>2.796276</td>\n",
       "      <td>2.910734</td>\n",
       "      <td>0.463059</td>\n",
       "    </tr>\n",
       "    <tr>\n",
       "      <th>std</th>\n",
       "      <td>1.783031</td>\n",
       "      <td>14.480131</td>\n",
       "      <td>1.242792</td>\n",
       "      <td>1.566546</td>\n",
       "      <td>0.380444</td>\n",
       "      <td>0.498893</td>\n",
       "    </tr>\n",
       "    <tr>\n",
       "      <th>min</th>\n",
       "      <td>0.000000</td>\n",
       "      <td>18.000000</td>\n",
       "      <td>1.000000</td>\n",
       "      <td>1.000000</td>\n",
       "      <td>1.000000</td>\n",
       "      <td>0.000000</td>\n",
       "    </tr>\n",
       "    <tr>\n",
       "      <th>25%</th>\n",
       "      <td>4.000000</td>\n",
       "      <td>45.000000</td>\n",
       "      <td>2.000000</td>\n",
       "      <td>1.000000</td>\n",
       "      <td>3.000000</td>\n",
       "      <td>0.000000</td>\n",
       "    </tr>\n",
       "    <tr>\n",
       "      <th>50%</th>\n",
       "      <td>4.000000</td>\n",
       "      <td>57.000000</td>\n",
       "      <td>3.000000</td>\n",
       "      <td>3.000000</td>\n",
       "      <td>3.000000</td>\n",
       "      <td>0.000000</td>\n",
       "    </tr>\n",
       "    <tr>\n",
       "      <th>75%</th>\n",
       "      <td>5.000000</td>\n",
       "      <td>66.000000</td>\n",
       "      <td>4.000000</td>\n",
       "      <td>4.000000</td>\n",
       "      <td>3.000000</td>\n",
       "      <td>1.000000</td>\n",
       "    </tr>\n",
       "    <tr>\n",
       "      <th>max</th>\n",
       "      <td>55.000000</td>\n",
       "      <td>96.000000</td>\n",
       "      <td>4.000000</td>\n",
       "      <td>5.000000</td>\n",
       "      <td>4.000000</td>\n",
       "      <td>1.000000</td>\n",
       "    </tr>\n",
       "  </tbody>\n",
       "</table>\n",
       "</div>"
      ],
      "text/plain": [
       "       BI-RADS assessment         Age       Shape      Margin     Density  \\\n",
       "count          959.000000  956.000000  930.000000  913.000000  885.000000   \n",
       "mean             4.348279   55.487448    2.721505    2.796276    2.910734   \n",
       "std              1.783031   14.480131    1.242792    1.566546    0.380444   \n",
       "min              0.000000   18.000000    1.000000    1.000000    1.000000   \n",
       "25%              4.000000   45.000000    2.000000    1.000000    3.000000   \n",
       "50%              4.000000   57.000000    3.000000    3.000000    3.000000   \n",
       "75%              5.000000   66.000000    4.000000    4.000000    3.000000   \n",
       "max             55.000000   96.000000    4.000000    5.000000    4.000000   \n",
       "\n",
       "         Severity  \n",
       "count  961.000000  \n",
       "mean     0.463059  \n",
       "std      0.498893  \n",
       "min      0.000000  \n",
       "25%      0.000000  \n",
       "50%      0.000000  \n",
       "75%      1.000000  \n",
       "max      1.000000  "
      ]
     },
     "execution_count": 5,
     "metadata": {},
     "output_type": "execute_result"
    }
   ],
   "source": [
    "df.describe()"
   ]
  },
  {
   "cell_type": "markdown",
   "metadata": {},
   "source": [
    "**Null values**"
   ]
  },
  {
   "cell_type": "code",
   "execution_count": 6,
   "metadata": {
    "scrolled": true
   },
   "outputs": [
    {
     "data": {
      "text/plain": [
       "BI-RADS assessment     2\n",
       "Age                    5\n",
       "Shape                 31\n",
       "Margin                48\n",
       "Density               76\n",
       "Severity               0\n",
       "dtype: int64"
      ]
     },
     "execution_count": 6,
     "metadata": {},
     "output_type": "execute_result"
    }
   ],
   "source": [
    "df.isna().sum()"
   ]
  },
  {
   "cell_type": "markdown",
   "metadata": {},
   "source": [
    "**Duplicated values**"
   ]
  },
  {
   "cell_type": "code",
   "execution_count": 7,
   "metadata": {},
   "outputs": [
    {
     "data": {
      "text/plain": [
       "272"
      ]
     },
     "execution_count": 7,
     "metadata": {},
     "output_type": "execute_result"
    }
   ],
   "source": [
    "df.duplicated().sum()"
   ]
  },
  {
   "cell_type": "markdown",
   "metadata": {},
   "source": [
    "**Inconsistences**"
   ]
  },
  {
   "cell_type": "code",
   "execution_count": 8,
   "metadata": {
    "scrolled": true
   },
   "outputs": [
    {
     "data": {
      "text/html": [
       "<div>\n",
       "<style scoped>\n",
       "    .dataframe tbody tr th:only-of-type {\n",
       "        vertical-align: middle;\n",
       "    }\n",
       "\n",
       "    .dataframe tbody tr th {\n",
       "        vertical-align: top;\n",
       "    }\n",
       "\n",
       "    .dataframe thead th {\n",
       "        text-align: right;\n",
       "    }\n",
       "</style>\n",
       "<table border=\"1\" class=\"dataframe\">\n",
       "  <thead>\n",
       "    <tr style=\"text-align: right;\">\n",
       "      <th></th>\n",
       "      <th>BI-RADS assessment</th>\n",
       "      <th>Age</th>\n",
       "      <th>Shape</th>\n",
       "      <th>Margin</th>\n",
       "      <th>Density</th>\n",
       "      <th>Severity</th>\n",
       "    </tr>\n",
       "  </thead>\n",
       "  <tbody>\n",
       "  </tbody>\n",
       "</table>\n",
       "</div>"
      ],
      "text/plain": [
       "Empty DataFrame\n",
       "Columns: [BI-RADS assessment, Age, Shape, Margin, Density, Severity]\n",
       "Index: []"
      ]
     },
     "execution_count": 8,
     "metadata": {},
     "output_type": "execute_result"
    }
   ],
   "source": [
    "df[df['Age']<0]"
   ]
  },
  {
   "cell_type": "markdown",
   "metadata": {},
   "source": [
    "#### Solving problems about null values"
   ]
  },
  {
   "cell_type": "code",
   "execution_count": 9,
   "metadata": {
    "scrolled": true
   },
   "outputs": [
    {
     "data": {
      "text/plain": [
       "0.8636836628511967"
      ]
     },
     "execution_count": 9,
     "metadata": {},
     "output_type": "execute_result"
    }
   ],
   "source": [
    "len(df.dropna())/len(df)"
   ]
  },
  {
   "cell_type": "markdown",
   "metadata": {},
   "source": [
    "15% of rows are nulls. Although ~15% is high, i'll drop this registers because the problem it's very particular about the woman, so filling with an estrategy i thnik it's not a good idea"
   ]
  },
  {
   "cell_type": "code",
   "execution_count": 10,
   "metadata": {},
   "outputs": [],
   "source": [
    "df = df.dropna().reset_index(drop=True)"
   ]
  },
  {
   "cell_type": "code",
   "execution_count": 11,
   "metadata": {},
   "outputs": [
    {
     "data": {
      "text/html": [
       "<div>\n",
       "<style scoped>\n",
       "    .dataframe tbody tr th:only-of-type {\n",
       "        vertical-align: middle;\n",
       "    }\n",
       "\n",
       "    .dataframe tbody tr th {\n",
       "        vertical-align: top;\n",
       "    }\n",
       "\n",
       "    .dataframe thead th {\n",
       "        text-align: right;\n",
       "    }\n",
       "</style>\n",
       "<table border=\"1\" class=\"dataframe\">\n",
       "  <thead>\n",
       "    <tr style=\"text-align: right;\">\n",
       "      <th></th>\n",
       "      <th>BI-RADS assessment</th>\n",
       "      <th>Age</th>\n",
       "      <th>Shape</th>\n",
       "      <th>Margin</th>\n",
       "      <th>Density</th>\n",
       "      <th>Severity</th>\n",
       "    </tr>\n",
       "  </thead>\n",
       "  <tbody>\n",
       "    <tr>\n",
       "      <th>0</th>\n",
       "      <td>5.0</td>\n",
       "      <td>67.0</td>\n",
       "      <td>3.0</td>\n",
       "      <td>5.0</td>\n",
       "      <td>3.0</td>\n",
       "      <td>1</td>\n",
       "    </tr>\n",
       "    <tr>\n",
       "      <th>1</th>\n",
       "      <td>5.0</td>\n",
       "      <td>58.0</td>\n",
       "      <td>4.0</td>\n",
       "      <td>5.0</td>\n",
       "      <td>3.0</td>\n",
       "      <td>1</td>\n",
       "    </tr>\n",
       "    <tr>\n",
       "      <th>2</th>\n",
       "      <td>4.0</td>\n",
       "      <td>28.0</td>\n",
       "      <td>1.0</td>\n",
       "      <td>1.0</td>\n",
       "      <td>3.0</td>\n",
       "      <td>0</td>\n",
       "    </tr>\n",
       "    <tr>\n",
       "      <th>3</th>\n",
       "      <td>5.0</td>\n",
       "      <td>57.0</td>\n",
       "      <td>1.0</td>\n",
       "      <td>5.0</td>\n",
       "      <td>3.0</td>\n",
       "      <td>1</td>\n",
       "    </tr>\n",
       "    <tr>\n",
       "      <th>4</th>\n",
       "      <td>5.0</td>\n",
       "      <td>76.0</td>\n",
       "      <td>1.0</td>\n",
       "      <td>4.0</td>\n",
       "      <td>3.0</td>\n",
       "      <td>1</td>\n",
       "    </tr>\n",
       "    <tr>\n",
       "      <th>...</th>\n",
       "      <td>...</td>\n",
       "      <td>...</td>\n",
       "      <td>...</td>\n",
       "      <td>...</td>\n",
       "      <td>...</td>\n",
       "      <td>...</td>\n",
       "    </tr>\n",
       "    <tr>\n",
       "      <th>825</th>\n",
       "      <td>4.0</td>\n",
       "      <td>47.0</td>\n",
       "      <td>2.0</td>\n",
       "      <td>1.0</td>\n",
       "      <td>3.0</td>\n",
       "      <td>0</td>\n",
       "    </tr>\n",
       "    <tr>\n",
       "      <th>826</th>\n",
       "      <td>4.0</td>\n",
       "      <td>56.0</td>\n",
       "      <td>4.0</td>\n",
       "      <td>5.0</td>\n",
       "      <td>3.0</td>\n",
       "      <td>1</td>\n",
       "    </tr>\n",
       "    <tr>\n",
       "      <th>827</th>\n",
       "      <td>4.0</td>\n",
       "      <td>64.0</td>\n",
       "      <td>4.0</td>\n",
       "      <td>5.0</td>\n",
       "      <td>3.0</td>\n",
       "      <td>0</td>\n",
       "    </tr>\n",
       "    <tr>\n",
       "      <th>828</th>\n",
       "      <td>5.0</td>\n",
       "      <td>66.0</td>\n",
       "      <td>4.0</td>\n",
       "      <td>5.0</td>\n",
       "      <td>3.0</td>\n",
       "      <td>1</td>\n",
       "    </tr>\n",
       "    <tr>\n",
       "      <th>829</th>\n",
       "      <td>4.0</td>\n",
       "      <td>62.0</td>\n",
       "      <td>3.0</td>\n",
       "      <td>3.0</td>\n",
       "      <td>3.0</td>\n",
       "      <td>0</td>\n",
       "    </tr>\n",
       "  </tbody>\n",
       "</table>\n",
       "<p>830 rows × 6 columns</p>\n",
       "</div>"
      ],
      "text/plain": [
       "     BI-RADS assessment   Age  Shape  Margin  Density  Severity\n",
       "0                   5.0  67.0    3.0     5.0      3.0         1\n",
       "1                   5.0  58.0    4.0     5.0      3.0         1\n",
       "2                   4.0  28.0    1.0     1.0      3.0         0\n",
       "3                   5.0  57.0    1.0     5.0      3.0         1\n",
       "4                   5.0  76.0    1.0     4.0      3.0         1\n",
       "..                  ...   ...    ...     ...      ...       ...\n",
       "825                 4.0  47.0    2.0     1.0      3.0         0\n",
       "826                 4.0  56.0    4.0     5.0      3.0         1\n",
       "827                 4.0  64.0    4.0     5.0      3.0         0\n",
       "828                 5.0  66.0    4.0     5.0      3.0         1\n",
       "829                 4.0  62.0    3.0     3.0      3.0         0\n",
       "\n",
       "[830 rows x 6 columns]"
      ]
     },
     "execution_count": 11,
     "metadata": {},
     "output_type": "execute_result"
    }
   ],
   "source": [
    "df"
   ]
  },
  {
   "cell_type": "markdown",
   "metadata": {},
   "source": [
    "**Conclusions about Data QA**\n",
    "\n",
    "* The dataset contains 961 rows and each row is described by 6 features.\n",
    "* All columns has null values.\n",
    "* There are 272 row duplicated. \n",
    "* No relevant inconsistences were found.\n",
    "* After drop null values, there are 830 rows in the dataset."
   ]
  },
  {
   "cell_type": "markdown",
   "metadata": {},
   "source": [
    "### Reporting"
   ]
  },
  {
   "cell_type": "markdown",
   "metadata": {},
   "source": [
    "**Univariate analysis**"
   ]
  },
  {
   "cell_type": "code",
   "execution_count": 12,
   "metadata": {},
   "outputs": [
    {
     "data": {
      "image/png": "[encoded data removed]",
      "text/plain": [
       "<Figure size 1152x720 with 6 Axes>"
      ]
     },
     "metadata": {
      "needs_background": "light"
     },
     "output_type": "display_data"
    }
   ],
   "source": [
    "# Parametrized plot\n",
    "cols = list(df.columns)\n",
    "subplots_n_cols = 3\n",
    "subplots_n_rows = math.ceil(len(cols) / subplots_n_cols)\n",
    "fig, axes = plt.subplots(\n",
    "    subplots_n_rows,\n",
    "    subplots_n_cols,\n",
    "    figsize=(16,10)\n",
    ")\n",
    "axes = axes.ravel()\n",
    "cmap = sns.light_palette(\"seagreen\", as_cmap=True)\n",
    "\n",
    "for i, ax in enumerate(axes):\n",
    "    sns.histplot(x=cols[i],\n",
    "               data=df,\n",
    "               ax=ax,) \n",
    "    \n",
    "fig.suptitle(\"Histograms of all columns\",\n",
    "    size=16,\n",
    "    y=1.005,\n",
    ")\n",
    "\n",
    "plt.tight_layout()\n",
    "plt.show()\n"
   ]
  },
  {
   "cell_type": "code",
   "execution_count": 13,
   "metadata": {},
   "outputs": [
    {
     "data": {
      "image/png": "[encoded data removed]",
      "text/plain": [
       "<Figure size 1152x720 with 6 Axes>"
      ]
     },
     "metadata": {
      "needs_background": "light"
     },
     "output_type": "display_data"
    }
   ],
   "source": [
    "# Parametrized plot\n",
    "cols = list(df.columns)\n",
    "subplots_n_cols = 3\n",
    "subplots_n_rows = math.ceil(len(cols) / subplots_n_cols)\n",
    "fig, axes = plt.subplots(\n",
    "    subplots_n_rows,\n",
    "    subplots_n_cols,\n",
    "    figsize=(16,10)\n",
    ")\n",
    "axes = axes.ravel()\n",
    "cmap = sns.light_palette(\"seagreen\", as_cmap=True)\n",
    "\n",
    "for i, ax in enumerate(axes):\n",
    "    sns.boxplot(x=cols[i],\n",
    "                data=df,\n",
    "                ax=ax)    \n",
    "    \n",
    "fig.suptitle(\"Histograms of all columns\",\n",
    "    size=16,\n",
    "    y=1.005,\n",
    ")\n",
    "\n",
    "plt.tight_layout()\n",
    "plt.show()"
   ]
  },
  {
   "cell_type": "markdown",
   "metadata": {},
   "source": [
    "**Bivariate analysis**\n",
    "\n",
    "Distribution of features respect to the target"
   ]
  },
  {
   "cell_type": "code",
   "execution_count": 14,
   "metadata": {
    "scrolled": false
   },
   "outputs": [
    {
     "data": {
      "image/png": "[encoded data removed]",
      "text/plain": [
       "<Figure size 1152x720 with 4 Axes>"
      ]
     },
     "metadata": {
      "needs_background": "light"
     },
     "output_type": "display_data"
    }
   ],
   "source": [
    "# Parametrized plot\n",
    "cols = predictive_attributes\n",
    "subplots_n_cols = 2\n",
    "subplots_n_rows = math.ceil(len(cols) / subplots_n_cols)\n",
    "fig, axes = plt.subplots(\n",
    "    subplots_n_rows,\n",
    "    subplots_n_cols,\n",
    "    figsize=(16,10)\n",
    ")\n",
    "axes = axes.ravel()\n",
    "cmap = sns.light_palette(\"seagreen\", as_cmap=True)\n",
    "\n",
    "for i, ax in enumerate(axes):\n",
    "    sns.barplot(x= cols[i],\n",
    "                y='Severity',\n",
    "                hue=\"Severity\",\n",
    "                orient = 'h',\n",
    "                data = df,\n",
    "                ax=ax) \n",
    "    \n",
    "fig.suptitle(\"Histograms of all columns\",\n",
    "    size=16,\n",
    "    y=1.005,\n",
    ")\n",
    "\n",
    "plt.tight_layout()\n",
    "plt.show()"
   ]
  },
  {
   "cell_type": "markdown",
   "metadata": {},
   "source": [
    "**Correlation matrix**"
   ]
  },
  {
   "cell_type": "code",
   "execution_count": 15,
   "metadata": {
    "scrolled": false
   },
   "outputs": [
    {
     "data": {
      "text/plain": [
       "Text(0.5, 1.0, 'Correlation matrix')"
      ]
     },
     "execution_count": 15,
     "metadata": {},
     "output_type": "execute_result"
    },
    {
     "data": {
      "image/png": "[encoded data removed]",
      "text/plain": [
       "<Figure size 576x576 with 2 Axes>"
      ]
     },
     "metadata": {
      "needs_background": "light"
     },
     "output_type": "display_data"
    }
   ],
   "source": [
    "fig, ax = plt.subplots(1, 1, figsize=(8, 8))\n",
    "\n",
    "sns.heatmap(df.corr(method=\"pearson\"),\n",
    "            annot=True,\n",
    "            ax=ax)\n",
    "plt.title(\"Correlation matrix\")"
   ]
  },
  {
   "cell_type": "code",
   "execution_count": 16,
   "metadata": {},
   "outputs": [],
   "source": [
    "# Severityt must be considered as categorical\n",
    "df['Severity'] = df['Severity'].astype('category') "
   ]
  },
  {
   "cell_type": "markdown",
   "metadata": {},
   "source": [
    "**Conclusions about Reporting**\n",
    "\n",
    "* BI-RADS has values hiigher than 5. Those must be dropped.\n",
    "* Severity (target) is balanced.\n",
    "* Density has lot of row with value of 3 (~85%).\n",
    "* Women over the age of 50 are more likely to be positive for breast cancer.\n",
    "* Mass shape tagged as lobular or irregular are likely to be positive for breast cancer.\n",
    "* Mass magin tagged as ill-defined and spiculated are likly to be positive for breast cancer.\n",
    "* Both features with higher correlation with Severity are mass-magin and mass-shape."
   ]
  },
  {
   "cell_type": "markdown",
   "metadata": {},
   "source": [
    "### Machine Learning\n",
    "\n",
    "**Prepocess data**"
   ]
  },
  {
   "cell_type": "code",
   "execution_count": 17,
   "metadata": {},
   "outputs": [],
   "source": [
    "# So SKLearn library work with arrays as input i'll transform pd.Dataframe -> np.array both features and target.\n",
    "x = df[predictive_attributes].values\n",
    "y = df[taget].values"
   ]
  },
  {
   "cell_type": "code",
   "execution_count": 18,
   "metadata": {},
   "outputs": [],
   "source": [
    "# Standardize features by removing the mean and scaling to unit variance\n",
    "x_scaled = preprocessing.minmax_scale(x, feature_range=(0,1))"
   ]
  },
  {
   "cell_type": "code",
   "execution_count": 19,
   "metadata": {},
   "outputs": [],
   "source": [
    "from sklearn.model_selection import (train_test_split, \n",
    "                                     GridSearchCV)\n",
    "random_state = 42\n",
    "x_train, x_test, y_train, y_test = train_test_split(x_scaled,\n",
    "                                                    y,\n",
    "                                                    test_size=0.2,\n",
    "                                                   random_state = random_state)"
   ]
  },
  {
   "cell_type": "markdown",
   "metadata": {},
   "source": [
    "**Training model with scaled data**"
   ]
  },
  {
   "cell_type": "code",
   "execution_count": 20,
   "metadata": {},
   "outputs": [],
   "source": [
    "warnings.filterwarnings('ignore')\n",
    "\n",
    "modelos=[{\"name\":\"KNN\", \"model\": KNeighborsClassifier()},\n",
    "         {\"name\":\"DecisionTreeClassifier\", \"model\":DecisionTreeClassifier()},\n",
    "         {\"name\":\"RandomForestClassifier\", \"model\":RandomForestClassifier()}, \n",
    "         {\"name\":\"NaiveBayes\", \"model\": CategoricalNB()},\n",
    "         {\"name\":\"SVM_SVC\", \"model\": SVC()},\n",
    "         {\"name\":\"LogisticRegression\", \"model\": LogisticRegression()}\n",
    "        ]\n",
    "\n",
    "best_params = []\n",
    "\n",
    "for i in range(len(modelos)):\n",
    "    if modelos[i].get('name') == 'KNN':\n",
    "        \n",
    "        parametros={'algorithm':['auto', 'ball_tree', 'kd_tree', 'brute'],\n",
    "                    'n_neighbors':[5,6,8,9,10,12,15,20]}\n",
    "        \n",
    "        grid_search = GridSearchCV(modelos[i].get('model'),\n",
    "                                   param_grid=parametros,\n",
    "                                   scoring='accuracy')\n",
    "        grid_search.fit(x_train, y_train)\n",
    "        best_params.append({\n",
    "            'model':modelos[i].get('name'),\n",
    "            'best_params':grid_search.best_params_,\n",
    "            'best_score':grid_search.best_score_\n",
    "        })\n",
    "        \n",
    "    elif modelos[i].get('name') == 'DecisionTreeClassifier':\n",
    "        \n",
    "        parametros= {'criterion':['gini', 'entropy'],\n",
    "                    'splitter':['best', 'random']}\n",
    "        \n",
    "        grid_search = GridSearchCV(modelos[i].get('model'),\n",
    "                                   param_grid=parametros,\n",
    "                                   scoring='accuracy')\n",
    "        grid_search.fit(x_train, y_train)\n",
    "        best_params.append({\n",
    "            'model':modelos[i].get('name'),\n",
    "            'best_params':grid_search.best_params_,\n",
    "            'best_score':grid_search.best_score_\n",
    "        })\n",
    "    \n",
    "    elif modelos[i].get('name') == 'RandomForestClassifier':\n",
    "        \n",
    "        parametros= {'criterion':['gini', 'entropy'],\n",
    "                      'n_estimators':[1,5,10,20,50]}\n",
    "        \n",
    "        grid_search = GridSearchCV(modelos[i].get('model'),\n",
    "                                   param_grid=parametros,\n",
    "                                   scoring='accuracy')\n",
    "        grid_search.fit(x_train, y_train)\n",
    "        best_params.append({\n",
    "            'model':modelos[i].get('name'),\n",
    "            'best_params':grid_search.best_params_,\n",
    "            'best_score':grid_search.best_score_\n",
    "        })\n",
    "        \n",
    "    elif modelos[i].get('name') == 'NaiveBayes':\n",
    "        \n",
    "        parametros= {'alpha':[0.2,0.4,0.6,0.8,1],\n",
    "                    'fit_prior':[True, False],\n",
    "                    'min_categories':[2,3,4]} \n",
    "        \n",
    "        grid_search = GridSearchCV(modelos[i].get('model'),\n",
    "                                   param_grid=parametros,\n",
    "                                   scoring='accuracy')\n",
    "        grid_search.fit(x_train, y_train)\n",
    "        best_params.append({\n",
    "            'model':modelos[i].get('name'),\n",
    "            'best_params':grid_search.best_params_,\n",
    "            'best_score':grid_search.best_score_\n",
    "        })\n",
    "    \n",
    "    elif modelos[i].get('name') == 'SVM_SVC':\n",
    "        parametros= {'kernel':['rbf', 'linear', 'poly'],\n",
    "                    'gamma': ['scale', 'auto'],\n",
    "                    'C':[1.,5.,10.]}\n",
    "\n",
    "        grid_search = GridSearchCV(modelos[i].get('model'),\n",
    "                                   param_grid=parametros,\n",
    "                                   scoring='accuracy')\n",
    "        grid_search.fit(x_train, y_train)\n",
    "        best_params.append({\n",
    "            'model':modelos[i].get('name'),\n",
    "            'best_params':grid_search.best_params_,\n",
    "            'best_score':grid_search.best_score_\n",
    "        })\n",
    "    \n",
    "    elif modelos[i].get('name') == 'LogisticRegression':\n",
    "        parametros={'solver': ['newton-cg', 'lbfgs', 'liblinear', 'sag', 'saga'],\n",
    "                    'C': [100, 10, 1.0, 0.1, 0.01]}\n",
    "        \n",
    "        grid_search = GridSearchCV(modelos[i].get('model'),\n",
    "                                   param_grid=parametros, \n",
    "                                   scoring='accuracy',\n",
    "                                  )\n",
    "        grid_search.fit(x_train, y_train)\n",
    "        best_params.append({\n",
    "            'model':modelos[i].get('name'),\n",
    "            'best_params':grid_search.best_params_,\n",
    "            'best_score':grid_search.best_score_\n",
    "        })"
   ]
  },
  {
   "cell_type": "code",
   "execution_count": 21,
   "metadata": {},
   "outputs": [],
   "source": [
    "# Pre-processing the values for the nn\n",
    "x_train_nn = x_train.astype('float32')\n",
    "x_test_nn = x_test.astype('float32')\n",
    "\n",
    "y_train_nn = keras.utils.to_categorical(y_train.astype('float32'),2)\n",
    "y_test_nn = keras.utils.to_categorical(y_test.astype('float32'),2)"
   ]
  },
  {
   "cell_type": "code",
   "execution_count": 22,
   "metadata": {},
   "outputs": [],
   "source": [
    "def model_nn():\n",
    "    mlp_model = Sequential()\n",
    "    mlp_model.add(Dense(4,activation='relu',input_shape=(4,)))\n",
    "    mlp_model.add(Dense(8,activation='relu'))\n",
    "    mlp_model.add(Dense(2,activation='softmax'))\n",
    "    return mlp_model"
   ]
  },
  {
   "cell_type": "code",
   "execution_count": 23,
   "metadata": {},
   "outputs": [
    {
     "name": "stdout",
     "output_type": "stream",
     "text": [
      "Model: \"sequential\"\n",
      "_________________________________________________________________\n",
      " Layer (type)                Output Shape              Param #   \n",
      "=================================================================\n",
      " dense (Dense)               (None, 4)                 20        \n",
      "                                                                 \n",
      " dense_1 (Dense)             (None, 8)                 40        \n",
      "                                                                 \n",
      " dense_2 (Dense)             (None, 2)                 18        \n",
      "                                                                 \n",
      "=================================================================\n",
      "Total params: 78\n",
      "Trainable params: 78\n",
      "Non-trainable params: 0\n",
      "_________________________________________________________________\n"
     ]
    },
    {
     "name": "stderr",
     "output_type": "stream",
     "text": [
      "2022-02-13 19:22:51.527658: I tensorflow/core/platform/cpu_feature_guard.cc:151] This TensorFlow binary is optimized with oneAPI Deep Neural Network Library (oneDNN) to use the following CPU instructions in performance-critical operations:  AVX2 FMA\n",
      "To enable them in other operations, rebuild TensorFlow with the appropriate compiler flags.\n"
     ]
    }
   ],
   "source": [
    "mlp_model = model_nn()\n",
    "mlp_model.summary()"
   ]
  },
  {
   "cell_type": "code",
   "execution_count": 24,
   "metadata": {},
   "outputs": [],
   "source": [
    "mlp_model.compile(loss='binary_crossentropy',\n",
    "             optimizer= 'adam',\n",
    "             metrics= ['accuracy'])"
   ]
  },
  {
   "cell_type": "code",
   "execution_count": 25,
   "metadata": {},
   "outputs": [
    {
     "name": "stdout",
     "output_type": "stream",
     "text": [
      "Epoch 1/100\n",
      "34/34 - 0s - loss: 0.7664 - accuracy: 0.4910 - val_loss: 0.7373 - val_accuracy: 0.4639 - 467ms/epoch - 14ms/step\n",
      "Epoch 2/100\n",
      "34/34 - 0s - loss: 0.7135 - accuracy: 0.5000 - val_loss: 0.6978 - val_accuracy: 0.5120 - 59ms/epoch - 2ms/step\n",
      "Epoch 3/100\n",
      "34/34 - 0s - loss: 0.6804 - accuracy: 0.6401 - val_loss: 0.6697 - val_accuracy: 0.6506 - 51ms/epoch - 2ms/step\n",
      "Epoch 4/100\n",
      "34/34 - 0s - loss: 0.6548 - accuracy: 0.7063 - val_loss: 0.6480 - val_accuracy: 0.7108 - 52ms/epoch - 2ms/step\n",
      "Epoch 5/100\n",
      "34/34 - 0s - loss: 0.6375 - accuracy: 0.7455 - val_loss: 0.6342 - val_accuracy: 0.7410 - 52ms/epoch - 2ms/step\n",
      "Epoch 6/100\n",
      "34/34 - 0s - loss: 0.6253 - accuracy: 0.7575 - val_loss: 0.6230 - val_accuracy: 0.7590 - 59ms/epoch - 2ms/step\n",
      "Epoch 7/100\n",
      "34/34 - 0s - loss: 0.6161 - accuracy: 0.7590 - val_loss: 0.6131 - val_accuracy: 0.7711 - 52ms/epoch - 2ms/step\n",
      "Epoch 8/100\n",
      "34/34 - 0s - loss: 0.6064 - accuracy: 0.7741 - val_loss: 0.6030 - val_accuracy: 0.7892 - 52ms/epoch - 2ms/step\n",
      "Epoch 9/100\n",
      "34/34 - 0s - loss: 0.5978 - accuracy: 0.7771 - val_loss: 0.5940 - val_accuracy: 0.7952 - 52ms/epoch - 2ms/step\n",
      "Epoch 10/100\n",
      "34/34 - 0s - loss: 0.5904 - accuracy: 0.7771 - val_loss: 0.5853 - val_accuracy: 0.8012 - 53ms/epoch - 2ms/step\n",
      "Epoch 11/100\n",
      "34/34 - 0s - loss: 0.5830 - accuracy: 0.7816 - val_loss: 0.5767 - val_accuracy: 0.8012 - 54ms/epoch - 2ms/step\n",
      "Epoch 12/100\n",
      "34/34 - 0s - loss: 0.5760 - accuracy: 0.7801 - val_loss: 0.5694 - val_accuracy: 0.8012 - 52ms/epoch - 2ms/step\n",
      "Epoch 13/100\n",
      "34/34 - 0s - loss: 0.5695 - accuracy: 0.7786 - val_loss: 0.5612 - val_accuracy: 0.7952 - 57ms/epoch - 2ms/step\n",
      "Epoch 14/100\n",
      "34/34 - 0s - loss: 0.5625 - accuracy: 0.7801 - val_loss: 0.5538 - val_accuracy: 0.7952 - 66ms/epoch - 2ms/step\n",
      "Epoch 15/100\n",
      "34/34 - 0s - loss: 0.5564 - accuracy: 0.7801 - val_loss: 0.5456 - val_accuracy: 0.7952 - 56ms/epoch - 2ms/step\n",
      "Epoch 16/100\n",
      "34/34 - 0s - loss: 0.5498 - accuracy: 0.7816 - val_loss: 0.5389 - val_accuracy: 0.7952 - 86ms/epoch - 3ms/step\n",
      "Epoch 17/100\n",
      "34/34 - 0s - loss: 0.5429 - accuracy: 0.7846 - val_loss: 0.5306 - val_accuracy: 0.8012 - 65ms/epoch - 2ms/step\n",
      "Epoch 18/100\n",
      "34/34 - 0s - loss: 0.5380 - accuracy: 0.7907 - val_loss: 0.5238 - val_accuracy: 0.8012 - 135ms/epoch - 4ms/step\n",
      "Epoch 19/100\n",
      "34/34 - 0s - loss: 0.5316 - accuracy: 0.7922 - val_loss: 0.5166 - val_accuracy: 0.8012 - 74ms/epoch - 2ms/step\n",
      "Epoch 20/100\n",
      "34/34 - 0s - loss: 0.5258 - accuracy: 0.7922 - val_loss: 0.5099 - val_accuracy: 0.8012 - 65ms/epoch - 2ms/step\n",
      "Epoch 21/100\n",
      "34/34 - 0s - loss: 0.5203 - accuracy: 0.7922 - val_loss: 0.5032 - val_accuracy: 0.8012 - 52ms/epoch - 2ms/step\n",
      "Epoch 22/100\n",
      "34/34 - 0s - loss: 0.5153 - accuracy: 0.7892 - val_loss: 0.4963 - val_accuracy: 0.8072 - 59ms/epoch - 2ms/step\n",
      "Epoch 23/100\n",
      "34/34 - 0s - loss: 0.5100 - accuracy: 0.7892 - val_loss: 0.4906 - val_accuracy: 0.8072 - 51ms/epoch - 2ms/step\n",
      "Epoch 24/100\n",
      "34/34 - 0s - loss: 0.5058 - accuracy: 0.7892 - val_loss: 0.4850 - val_accuracy: 0.8072 - 51ms/epoch - 2ms/step\n",
      "Epoch 25/100\n",
      "34/34 - 0s - loss: 0.5021 - accuracy: 0.7861 - val_loss: 0.4798 - val_accuracy: 0.8133 - 55ms/epoch - 2ms/step\n",
      "Epoch 26/100\n",
      "34/34 - 0s - loss: 0.4981 - accuracy: 0.7877 - val_loss: 0.4751 - val_accuracy: 0.8072 - 53ms/epoch - 2ms/step\n",
      "Epoch 27/100\n",
      "34/34 - 0s - loss: 0.4955 - accuracy: 0.7877 - val_loss: 0.4705 - val_accuracy: 0.8133 - 52ms/epoch - 2ms/step\n",
      "Epoch 28/100\n",
      "34/34 - 0s - loss: 0.4933 - accuracy: 0.7877 - val_loss: 0.4668 - val_accuracy: 0.8133 - 61ms/epoch - 2ms/step\n",
      "Epoch 29/100\n",
      "34/34 - 0s - loss: 0.4898 - accuracy: 0.7877 - val_loss: 0.4642 - val_accuracy: 0.8072 - 87ms/epoch - 3ms/step\n",
      "Epoch 30/100\n",
      "34/34 - 0s - loss: 0.4872 - accuracy: 0.7861 - val_loss: 0.4610 - val_accuracy: 0.8133 - 54ms/epoch - 2ms/step\n",
      "Epoch 31/100\n",
      "34/34 - 0s - loss: 0.4856 - accuracy: 0.7892 - val_loss: 0.4577 - val_accuracy: 0.8133 - 52ms/epoch - 2ms/step\n",
      "Epoch 32/100\n",
      "34/34 - 0s - loss: 0.4836 - accuracy: 0.7892 - val_loss: 0.4556 - val_accuracy: 0.8133 - 52ms/epoch - 2ms/step\n",
      "Epoch 33/100\n",
      "34/34 - 0s - loss: 0.4817 - accuracy: 0.7922 - val_loss: 0.4535 - val_accuracy: 0.8253 - 53ms/epoch - 2ms/step\n",
      "Epoch 34/100\n",
      "34/34 - 0s - loss: 0.4805 - accuracy: 0.7892 - val_loss: 0.4515 - val_accuracy: 0.8193 - 59ms/epoch - 2ms/step\n",
      "Epoch 35/100\n",
      "34/34 - 0s - loss: 0.4788 - accuracy: 0.7907 - val_loss: 0.4493 - val_accuracy: 0.8193 - 60ms/epoch - 2ms/step\n",
      "Epoch 36/100\n",
      "34/34 - 0s - loss: 0.4773 - accuracy: 0.7922 - val_loss: 0.4471 - val_accuracy: 0.8313 - 52ms/epoch - 2ms/step\n",
      "Epoch 37/100\n",
      "34/34 - 0s - loss: 0.4763 - accuracy: 0.7967 - val_loss: 0.4459 - val_accuracy: 0.8313 - 55ms/epoch - 2ms/step\n",
      "Epoch 38/100\n",
      "34/34 - 0s - loss: 0.4759 - accuracy: 0.7952 - val_loss: 0.4443 - val_accuracy: 0.8313 - 53ms/epoch - 2ms/step\n",
      "Epoch 39/100\n",
      "34/34 - 0s - loss: 0.4746 - accuracy: 0.7952 - val_loss: 0.4434 - val_accuracy: 0.8193 - 54ms/epoch - 2ms/step\n",
      "Epoch 40/100\n",
      "34/34 - 0s - loss: 0.4742 - accuracy: 0.7922 - val_loss: 0.4417 - val_accuracy: 0.8313 - 78ms/epoch - 2ms/step\n",
      "Epoch 41/100\n",
      "34/34 - 0s - loss: 0.4729 - accuracy: 0.7937 - val_loss: 0.4406 - val_accuracy: 0.8253 - 64ms/epoch - 2ms/step\n",
      "Epoch 42/100\n",
      "34/34 - 0s - loss: 0.4717 - accuracy: 0.8027 - val_loss: 0.4397 - val_accuracy: 0.8373 - 59ms/epoch - 2ms/step\n",
      "Epoch 43/100\n",
      "34/34 - 0s - loss: 0.4722 - accuracy: 0.7967 - val_loss: 0.4387 - val_accuracy: 0.8373 - 66ms/epoch - 2ms/step\n",
      "Epoch 44/100\n",
      "34/34 - 0s - loss: 0.4709 - accuracy: 0.7967 - val_loss: 0.4378 - val_accuracy: 0.8373 - 52ms/epoch - 2ms/step\n",
      "Epoch 45/100\n",
      "34/34 - 0s - loss: 0.4700 - accuracy: 0.8012 - val_loss: 0.4370 - val_accuracy: 0.8373 - 52ms/epoch - 2ms/step\n",
      "Epoch 46/100\n",
      "34/34 - 0s - loss: 0.4696 - accuracy: 0.7967 - val_loss: 0.4362 - val_accuracy: 0.8313 - 53ms/epoch - 2ms/step\n",
      "Epoch 47/100\n",
      "34/34 - 0s - loss: 0.4692 - accuracy: 0.7937 - val_loss: 0.4355 - val_accuracy: 0.8373 - 53ms/epoch - 2ms/step\n",
      "Epoch 48/100\n",
      "34/34 - 0s - loss: 0.4685 - accuracy: 0.8027 - val_loss: 0.4353 - val_accuracy: 0.8373 - 60ms/epoch - 2ms/step\n",
      "Epoch 49/100\n",
      "34/34 - 0s - loss: 0.4679 - accuracy: 0.8027 - val_loss: 0.4344 - val_accuracy: 0.8434 - 53ms/epoch - 2ms/step\n",
      "Epoch 50/100\n",
      "34/34 - 0s - loss: 0.4674 - accuracy: 0.7997 - val_loss: 0.4339 - val_accuracy: 0.8313 - 53ms/epoch - 2ms/step\n",
      "Epoch 51/100\n",
      "34/34 - 0s - loss: 0.4691 - accuracy: 0.8012 - val_loss: 0.4332 - val_accuracy: 0.8434 - 52ms/epoch - 2ms/step\n",
      "Epoch 52/100\n",
      "34/34 - 0s - loss: 0.4672 - accuracy: 0.7997 - val_loss: 0.4338 - val_accuracy: 0.8373 - 67ms/epoch - 2ms/step\n",
      "Epoch 53/100\n",
      "34/34 - 0s - loss: 0.4665 - accuracy: 0.7997 - val_loss: 0.4326 - val_accuracy: 0.8373 - 54ms/epoch - 2ms/step\n",
      "Epoch 54/100\n",
      "34/34 - 0s - loss: 0.4683 - accuracy: 0.7997 - val_loss: 0.4318 - val_accuracy: 0.8373 - 63ms/epoch - 2ms/step\n",
      "Epoch 55/100\n",
      "34/34 - 0s - loss: 0.4662 - accuracy: 0.7982 - val_loss: 0.4317 - val_accuracy: 0.8434 - 54ms/epoch - 2ms/step\n",
      "Epoch 56/100\n",
      "34/34 - 0s - loss: 0.4654 - accuracy: 0.7997 - val_loss: 0.4316 - val_accuracy: 0.8434 - 49ms/epoch - 1ms/step\n",
      "Epoch 57/100\n",
      "34/34 - 0s - loss: 0.4644 - accuracy: 0.7997 - val_loss: 0.4307 - val_accuracy: 0.8373 - 50ms/epoch - 1ms/step\n",
      "Epoch 58/100\n",
      "34/34 - 0s - loss: 0.4642 - accuracy: 0.8012 - val_loss: 0.4302 - val_accuracy: 0.8313 - 48ms/epoch - 1ms/step\n",
      "Epoch 59/100\n",
      "34/34 - 0s - loss: 0.4638 - accuracy: 0.7982 - val_loss: 0.4301 - val_accuracy: 0.8494 - 50ms/epoch - 1ms/step\n",
      "Epoch 60/100\n",
      "34/34 - 0s - loss: 0.4638 - accuracy: 0.7982 - val_loss: 0.4293 - val_accuracy: 0.8373 - 49ms/epoch - 1ms/step\n",
      "Epoch 61/100\n",
      "34/34 - 0s - loss: 0.4638 - accuracy: 0.8027 - val_loss: 0.4300 - val_accuracy: 0.8434 - 48ms/epoch - 1ms/step\n",
      "Epoch 62/100\n",
      "34/34 - 0s - loss: 0.4634 - accuracy: 0.7982 - val_loss: 0.4287 - val_accuracy: 0.8434 - 50ms/epoch - 1ms/step\n",
      "Epoch 63/100\n",
      "34/34 - 0s - loss: 0.4629 - accuracy: 0.8012 - val_loss: 0.4284 - val_accuracy: 0.8434 - 88ms/epoch - 3ms/step\n",
      "Epoch 64/100\n",
      "34/34 - 0s - loss: 0.4629 - accuracy: 0.8012 - val_loss: 0.4278 - val_accuracy: 0.8313 - 54ms/epoch - 2ms/step\n",
      "Epoch 65/100\n",
      "34/34 - 0s - loss: 0.4624 - accuracy: 0.7997 - val_loss: 0.4285 - val_accuracy: 0.8494 - 49ms/epoch - 1ms/step\n",
      "Epoch 66/100\n",
      "34/34 - 0s - loss: 0.4623 - accuracy: 0.8012 - val_loss: 0.4280 - val_accuracy: 0.8494 - 49ms/epoch - 1ms/step\n",
      "Epoch 67/100\n",
      "34/34 - 0s - loss: 0.4618 - accuracy: 0.7937 - val_loss: 0.4272 - val_accuracy: 0.8434 - 50ms/epoch - 1ms/step\n"
     ]
    },
    {
     "name": "stdout",
     "output_type": "stream",
     "text": [
      "Epoch 68/100\n",
      "34/34 - 0s - loss: 0.4613 - accuracy: 0.8012 - val_loss: 0.4269 - val_accuracy: 0.8494 - 49ms/epoch - 1ms/step\n",
      "Epoch 69/100\n",
      "34/34 - 0s - loss: 0.4619 - accuracy: 0.7982 - val_loss: 0.4271 - val_accuracy: 0.8494 - 48ms/epoch - 1ms/step\n",
      "Epoch 70/100\n",
      "34/34 - 0s - loss: 0.4608 - accuracy: 0.8042 - val_loss: 0.4275 - val_accuracy: 0.8434 - 48ms/epoch - 1ms/step\n",
      "Epoch 71/100\n",
      "34/34 - 0s - loss: 0.4612 - accuracy: 0.8027 - val_loss: 0.4267 - val_accuracy: 0.8434 - 48ms/epoch - 1ms/step\n",
      "Epoch 72/100\n",
      "34/34 - 0s - loss: 0.4602 - accuracy: 0.7982 - val_loss: 0.4255 - val_accuracy: 0.8434 - 47ms/epoch - 1ms/step\n",
      "Epoch 73/100\n",
      "34/34 - 0s - loss: 0.4607 - accuracy: 0.7952 - val_loss: 0.4261 - val_accuracy: 0.8494 - 51ms/epoch - 1ms/step\n",
      "Epoch 74/100\n",
      "34/34 - 0s - loss: 0.4602 - accuracy: 0.7982 - val_loss: 0.4255 - val_accuracy: 0.8494 - 54ms/epoch - 2ms/step\n",
      "Epoch 75/100\n",
      "34/34 - 0s - loss: 0.4601 - accuracy: 0.7952 - val_loss: 0.4252 - val_accuracy: 0.8494 - 77ms/epoch - 2ms/step\n",
      "Epoch 76/100\n",
      "34/34 - 0s - loss: 0.4598 - accuracy: 0.7952 - val_loss: 0.4251 - val_accuracy: 0.8494 - 51ms/epoch - 1ms/step\n",
      "Epoch 77/100\n",
      "34/34 - 0s - loss: 0.4604 - accuracy: 0.8042 - val_loss: 0.4250 - val_accuracy: 0.8494 - 48ms/epoch - 1ms/step\n",
      "Epoch 78/100\n",
      "34/34 - 0s - loss: 0.4604 - accuracy: 0.7982 - val_loss: 0.4246 - val_accuracy: 0.8554 - 48ms/epoch - 1ms/step\n",
      "Epoch 79/100\n",
      "34/34 - 0s - loss: 0.4600 - accuracy: 0.7937 - val_loss: 0.4250 - val_accuracy: 0.8494 - 48ms/epoch - 1ms/step\n",
      "Epoch 80/100\n",
      "34/34 - 0s - loss: 0.4589 - accuracy: 0.7982 - val_loss: 0.4244 - val_accuracy: 0.8494 - 48ms/epoch - 1ms/step\n",
      "Epoch 81/100\n",
      "34/34 - 0s - loss: 0.4591 - accuracy: 0.7967 - val_loss: 0.4242 - val_accuracy: 0.8554 - 48ms/epoch - 1ms/step\n",
      "Epoch 82/100\n",
      "34/34 - 0s - loss: 0.4586 - accuracy: 0.7952 - val_loss: 0.4245 - val_accuracy: 0.8554 - 66ms/epoch - 2ms/step\n",
      "Epoch 83/100\n",
      "34/34 - 0s - loss: 0.4583 - accuracy: 0.7952 - val_loss: 0.4252 - val_accuracy: 0.8434 - 59ms/epoch - 2ms/step\n",
      "Epoch 84/100\n",
      "34/34 - 0s - loss: 0.4584 - accuracy: 0.8027 - val_loss: 0.4238 - val_accuracy: 0.8554 - 56ms/epoch - 2ms/step\n",
      "Epoch 85/100\n",
      "34/34 - 0s - loss: 0.4582 - accuracy: 0.7952 - val_loss: 0.4237 - val_accuracy: 0.8554 - 53ms/epoch - 2ms/step\n",
      "Epoch 86/100\n",
      "34/34 - 0s - loss: 0.4578 - accuracy: 0.7967 - val_loss: 0.4238 - val_accuracy: 0.8554 - 48ms/epoch - 1ms/step\n",
      "Epoch 87/100\n",
      "34/34 - 0s - loss: 0.4578 - accuracy: 0.7937 - val_loss: 0.4233 - val_accuracy: 0.8554 - 51ms/epoch - 1ms/step\n",
      "Epoch 88/100\n",
      "34/34 - 0s - loss: 0.4576 - accuracy: 0.7967 - val_loss: 0.4239 - val_accuracy: 0.8554 - 47ms/epoch - 1ms/step\n",
      "Epoch 89/100\n",
      "34/34 - 0s - loss: 0.4575 - accuracy: 0.7907 - val_loss: 0.4235 - val_accuracy: 0.8494 - 47ms/epoch - 1ms/step\n",
      "Epoch 90/100\n",
      "34/34 - 0s - loss: 0.4582 - accuracy: 0.7937 - val_loss: 0.4235 - val_accuracy: 0.8494 - 53ms/epoch - 2ms/step\n",
      "Epoch 91/100\n",
      "34/34 - 0s - loss: 0.4574 - accuracy: 0.7982 - val_loss: 0.4239 - val_accuracy: 0.8494 - 48ms/epoch - 1ms/step\n",
      "Epoch 92/100\n",
      "34/34 - 0s - loss: 0.4572 - accuracy: 0.7967 - val_loss: 0.4233 - val_accuracy: 0.8494 - 47ms/epoch - 1ms/step\n",
      "Epoch 93/100\n",
      "34/34 - 0s - loss: 0.4573 - accuracy: 0.7937 - val_loss: 0.4231 - val_accuracy: 0.8494 - 49ms/epoch - 1ms/step\n",
      "Epoch 94/100\n",
      "34/34 - 0s - loss: 0.4560 - accuracy: 0.7907 - val_loss: 0.4237 - val_accuracy: 0.8494 - 46ms/epoch - 1ms/step\n",
      "Epoch 95/100\n",
      "34/34 - 0s - loss: 0.4571 - accuracy: 0.7937 - val_loss: 0.4232 - val_accuracy: 0.8494 - 48ms/epoch - 1ms/step\n",
      "Epoch 96/100\n",
      "34/34 - 0s - loss: 0.4566 - accuracy: 0.7967 - val_loss: 0.4236 - val_accuracy: 0.8494 - 52ms/epoch - 2ms/step\n",
      "Epoch 97/100\n",
      "34/34 - 0s - loss: 0.4572 - accuracy: 0.8027 - val_loss: 0.4226 - val_accuracy: 0.8494 - 47ms/epoch - 1ms/step\n",
      "Epoch 98/100\n",
      "34/34 - 0s - loss: 0.4564 - accuracy: 0.7937 - val_loss: 0.4224 - val_accuracy: 0.8494 - 46ms/epoch - 1ms/step\n",
      "Epoch 99/100\n",
      "34/34 - 0s - loss: 0.4559 - accuracy: 0.7937 - val_loss: 0.4232 - val_accuracy: 0.8494 - 52ms/epoch - 2ms/step\n",
      "Epoch 100/100\n",
      "34/34 - 0s - loss: 0.4558 - accuracy: 0.8012 - val_loss: 0.4242 - val_accuracy: 0.8434 - 46ms/epoch - 1ms/step\n"
     ]
    }
   ],
   "source": [
    "history = mlp_model.fit(x= x_train_nn,\n",
    "                   y= y_train_nn,\n",
    "                   batch_size=20,\n",
    "                   epochs= 100,\n",
    "                   verbose=2,\n",
    "                   validation_data=(x_test_nn,\n",
    "                                    y_test_nn)\n",
    "                   )"
   ]
  },
  {
   "cell_type": "code",
   "execution_count": 26,
   "metadata": {},
   "outputs": [
    {
     "name": "stdout",
     "output_type": "stream",
     "text": [
      "Total loss:  0.42420077323913574\n",
      "Total Accuracy:  0.8433734774589539\n"
     ]
    }
   ],
   "source": [
    "score = mlp_model.evaluate(x_test_nn,y_test_nn, verbose=0)\n",
    "print(\"Total loss: \",score[0])\n",
    "print(\"Total Accuracy: \", score[1])"
   ]
  },
  {
   "cell_type": "code",
   "execution_count": 27,
   "metadata": {},
   "outputs": [],
   "source": [
    "best_params.append({\n",
    "            'model':'Multi Layer Perceptron',\n",
    "            'best_params':history.params,\n",
    "            'best_score': score[1]\n",
    "})"
   ]
  },
  {
   "cell_type": "code",
   "execution_count": 28,
   "metadata": {},
   "outputs": [
    {
     "data": {
      "text/html": [
       "<div>\n",
       "<style scoped>\n",
       "    .dataframe tbody tr th:only-of-type {\n",
       "        vertical-align: middle;\n",
       "    }\n",
       "\n",
       "    .dataframe tbody tr th {\n",
       "        vertical-align: top;\n",
       "    }\n",
       "\n",
       "    .dataframe thead th {\n",
       "        text-align: right;\n",
       "    }\n",
       "</style>\n",
       "<table border=\"1\" class=\"dataframe\">\n",
       "  <thead>\n",
       "    <tr style=\"text-align: right;\">\n",
       "      <th></th>\n",
       "      <th>model</th>\n",
       "      <th>best_params</th>\n",
       "      <th>best_score</th>\n",
       "    </tr>\n",
       "  </thead>\n",
       "  <tbody>\n",
       "    <tr>\n",
       "      <th>6</th>\n",
       "      <td>Multi Layer Perceptron</td>\n",
       "      <td>{'verbose': 2, 'epochs': 100, 'steps': 34}</td>\n",
       "      <td>0.843373</td>\n",
       "    </tr>\n",
       "    <tr>\n",
       "      <th>4</th>\n",
       "      <td>SVM_SVC</td>\n",
       "      <td>{'C': 10.0, 'gamma': 'auto', 'kernel': 'poly'}</td>\n",
       "      <td>0.807245</td>\n",
       "    </tr>\n",
       "    <tr>\n",
       "      <th>5</th>\n",
       "      <td>LogisticRegression</td>\n",
       "      <td>{'C': 100, 'solver': 'newton-cg'}</td>\n",
       "      <td>0.796685</td>\n",
       "    </tr>\n",
       "    <tr>\n",
       "      <th>0</th>\n",
       "      <td>KNN</td>\n",
       "      <td>{'algorithm': 'ball_tree', 'n_neighbors': 15}</td>\n",
       "      <td>0.793666</td>\n",
       "    </tr>\n",
       "    <tr>\n",
       "      <th>3</th>\n",
       "      <td>NaiveBayes</td>\n",
       "      <td>{'alpha': 0.2, 'fit_prior': True, 'min_categor...</td>\n",
       "      <td>0.789177</td>\n",
       "    </tr>\n",
       "    <tr>\n",
       "      <th>2</th>\n",
       "      <td>RandomForestClassifier</td>\n",
       "      <td>{'criterion': 'entropy', 'n_estimators': 50}</td>\n",
       "      <td>0.757519</td>\n",
       "    </tr>\n",
       "    <tr>\n",
       "      <th>1</th>\n",
       "      <td>DecisionTreeClassifier</td>\n",
       "      <td>{'criterion': 'gini', 'splitter': 'best'}</td>\n",
       "      <td>0.719856</td>\n",
       "    </tr>\n",
       "  </tbody>\n",
       "</table>\n",
       "</div>"
      ],
      "text/plain": [
       "                    model                                        best_params  \\\n",
       "6  Multi Layer Perceptron         {'verbose': 2, 'epochs': 100, 'steps': 34}   \n",
       "4                 SVM_SVC     {'C': 10.0, 'gamma': 'auto', 'kernel': 'poly'}   \n",
       "5      LogisticRegression                  {'C': 100, 'solver': 'newton-cg'}   \n",
       "0                     KNN      {'algorithm': 'ball_tree', 'n_neighbors': 15}   \n",
       "3              NaiveBayes  {'alpha': 0.2, 'fit_prior': True, 'min_categor...   \n",
       "2  RandomForestClassifier       {'criterion': 'entropy', 'n_estimators': 50}   \n",
       "1  DecisionTreeClassifier          {'criterion': 'gini', 'splitter': 'best'}   \n",
       "\n",
       "   best_score  \n",
       "6    0.843373  \n",
       "4    0.807245  \n",
       "5    0.796685  \n",
       "0    0.793666  \n",
       "3    0.789177  \n",
       "2    0.757519  \n",
       "1    0.719856  "
      ]
     },
     "execution_count": 28,
     "metadata": {},
     "output_type": "execute_result"
    }
   ],
   "source": [
    "df_best_params = pd.DataFrame(best_params)\n",
    "df_best_params.sort_values(by='best_score', ascending=False)"
   ]
  },
  {
   "cell_type": "markdown",
   "metadata": {},
   "source": [
    "**Best Model:** Multi Layer Perceptron"
   ]
  },
  {
   "cell_type": "markdown",
   "metadata": {},
   "source": [
    "**Conclusions about Machine Learning.**\n",
    "* Score of all models selected are between 72.73% and 82.7%\n",
    "* The model which better performance is a neural netwrok with 3 layers (1 input layer, and 2 dense leyers)\n",
    "* SMV has a competitive accuracy considering its approach is simple than a Deep learning approach.\n",
    "* The same for Logistic regression, a very simple approach returns acceptable results.\n",
    "* Training time, of course the data set isn't too large, but the training time in all models are quiet similar"
   ]
  },
  {
   "cell_type": "markdown",
   "metadata": {},
   "source": [
    "**Export the best model**"
   ]
  },
  {
   "cell_type": "code",
   "execution_count": 29,
   "metadata": {},
   "outputs": [
    {
     "name": "stderr",
     "output_type": "stream",
     "text": [
      "2022-02-13 19:22:58.112797: W tensorflow/python/util/util.cc:368] Sets are not currently considered sequences, but this may change in the future, so consider avoiding using them.\n"
     ]
    },
    {
     "name": "stdout",
     "output_type": "stream",
     "text": [
      "INFO:tensorflow:Assets written to: ram://5b11946f-5465-411f-b0d6-aa45876692bb/assets\n"
     ]
    },
    {
     "data": {
      "text/plain": [
       "['mammo_classifier.pkl']"
      ]
     },
     "execution_count": 29,
     "metadata": {},
     "output_type": "execute_result"
    }
   ],
   "source": [
    "joblib.dump(mlp_model, 'mammo_classifier.pkl') "
   ]
  }
 ],
 "metadata": {
  "kernelspec": {
   "display_name": "Python 3 (ipykernel)",
   "language": "python",
   "name": "python3"
  },
  "language_info": {
   "codemirror_mode": {
    "name": "ipython",
    "version": 3
   },
   "file_extension": ".py",
   "mimetype": "text/x-python",
   "name": "python",
   "nbconvert_exporter": "python",
   "pygments_lexer": "ipython3",
   "version": "3.7.3"
  }
 },
 "nbformat": 4,
 "nbformat_minor": 2
}
